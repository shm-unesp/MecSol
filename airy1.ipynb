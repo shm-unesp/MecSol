{
  "nbformat": 4,
  "nbformat_minor": 0,
  "metadata": {
    "colab": {
      "provenance": [],
      "authorship_tag": "ABX9TyPWSA7eXXmk2DF87dRZjhxg",
      "include_colab_link": true
    },
    "kernelspec": {
      "name": "python3",
      "display_name": "Python 3"
    },
    "language_info": {
      "name": "python"
    }
  },
  "cells": [
    {
      "cell_type": "markdown",
      "metadata": {
        "id": "view-in-github",
        "colab_type": "text"
      },
      "source": [
        "<a href=\"https://colab.research.google.com/github/shm-unesp/MecSol/blob/Python/airy1.ipynb\" target=\"_parent\"><img src=\"https://colab.research.google.com/assets/colab-badge.svg\" alt=\"Open In Colab\"/></a>"
      ]
    },
    {
      "cell_type": "markdown",
      "source": [
        " # **Funções de Airy**\n",
        " ----\n",
        "\n",
        "Considere uma placa triangular com um carregamento crescendo linearmente conforme a figura abaixo, sendo a tensão $q_0$ (N/m$^2$) em $x=\\ell$. \n",
        "\n",
        "Para a solução do campo de tensões na placa se propõe usar uma função de Airy candidata como:\n",
        "\n",
        "$$\\phi(x,y) =\\mathcal Ax^3 + Bx^2y + Cxy^2 + Dy^3 $$\n"
      ],
      "metadata": {
        "id": "Wt4l4KlM4P5r"
      }
    },
    {
      "cell_type": "code",
      "source": [
        "from IPython.display import Image, display\n",
        "display(Image(filename='chapa.jpeg'))"
      ],
      "metadata": {
        "colab": {
          "base_uri": "https://localhost:8080/",
          "height": 300
        },
        "id": "TBDhcjNwxhTU",
        "outputId": "9abfbfab-166c-483c-ff96-63ebc813e18b"
      },
      "execution_count": null,
      "outputs": [
        {
          "output_type": "display_data",
          "data": {
            "image/jpeg": "[encoded data removed]",
            "text/plain": [
              "<IPython.core.display.Image object>"
            ]
          },
          "metadata": {}
        }
      ]
    },
    {
      "cell_type": "code",
      "source": [
        "!sudo dpkg --configure -a\n",
        "!sudo apt-get update --fix-missing\n",
        "!sudo apt-get install texlive-latex-extra texlive-fonts-recommended dvipng cm-super # plot with latex fonts\n",
        "!pip install colorblind\n",
        "\n",
        "import numpy as np\n",
        "import math as mt\n",
        "import pandas as pd\n",
        "import seaborn as sns\n",
        "import os\n",
        "\n",
        "import matplotlib.pyplot as plt\n",
        "\n",
        "import matplotlib.font_manager as font_manager\n",
        "from matplotlib import rc\n",
        "\n",
        "#Set the font dictionaries (for plot title and axis titles)\n",
        "rc('font', **{'family': 'serif', 'serif': ['Computer Modern'],'size': '18'})\n",
        "rc('text', usetex=True)"
      ],
      "metadata": {
        "id": "x9kfnko_5Dd2",
        "colab": {
          "base_uri": "https://localhost:8080/"
        },
        "outputId": "86d377cb-da4a-4e50-914f-553c269b30e4"
      },
      "execution_count": null,
      "outputs": [
        {
          "output_type": "stream",
          "name": "stdout",
          "text": [
            "\r0% [Working]\r            \rHit:1 https://cloud.r-project.org/bin/linux/ubuntu focal-cran40/ InRelease\n",
            "\r0% [Connecting to archive.ubuntu.com (185.125.190.39)] [Connecting to security.\r                                                                               \rHit:2 https://developer.download.nvidia.com/compute/cuda/repos/ubuntu2004/x86_64  InRelease\n",
            "\r                                                                               \r0% [Waiting for headers] [Waiting for headers] [Waiting for headers]\r                                                                    \rHit:3 http://archive.ubuntu.com/ubuntu focal InRelease\n",
            "Get:4 http://security.ubuntu.com/ubuntu focal-security InRelease [114 kB]\n",
            "Get:5 http://ppa.launchpad.net/c2d4u.team/c2d4u4.0+/ubuntu focal InRelease [18.1 kB]\n",
            "Get:6 http://archive.ubuntu.com/ubuntu focal-updates InRelease [114 kB]\n",
            "Hit:7 http://ppa.launchpad.net/cran/libgit2/ubuntu focal InRelease\n",
            "Get:8 http://archive.ubuntu.com/ubuntu focal-backports InRelease [108 kB]\n",
            "Get:9 http://security.ubuntu.com/ubuntu focal-security/universe amd64 Packages [1,051 kB]\n",
            "Hit:10 http://ppa.launchpad.net/deadsnakes/ppa/ubuntu focal InRelease\n",
            "Hit:11 http://ppa.launchpad.net/graphics-drivers/ppa/ubuntu focal InRelease\n",
            "Hit:12 http://ppa.launchpad.net/ubuntugis/ppa/ubuntu focal InRelease\n",
            "Get:13 http://ppa.launchpad.net/c2d4u.team/c2d4u4.0+/ubuntu focal/main Sources [2,581 kB]\n",
            "Get:14 http://ppa.launchpad.net/c2d4u.team/c2d4u4.0+/ubuntu focal/main amd64 Packages [1,218 kB]\n",
            "Fetched 5,204 kB in 3s (1,560 kB/s)\n",
            "Reading package lists... Done\n",
            "Reading package lists... Done\n",
            "Building dependency tree       \n",
            "Reading state information... Done\n",
            "cm-super is already the newest version (0.3.4-15).\n",
            "dvipng is already the newest version (1.15-1.1).\n",
            "texlive-fonts-recommended is already the newest version (2019.20200218-1).\n",
            "texlive-latex-extra is already the newest version (2019.202000218-1).\n",
            "0 upgraded, 0 newly installed, 0 to remove and 35 not upgraded.\n",
            "Looking in indexes: https://pypi.org/simple, https://us-python.pkg.dev/colab-wheels/public/simple/\n",
            "Requirement already satisfied: colorblind in /usr/local/lib/python3.10/dist-packages (0.0.9)\n"
          ]
        }
      ]
    },
    {
      "cell_type": "markdown",
      "source": [
        "# 1. Verificando se a função $\\phi(x,y)$ é uma função de Airy\n",
        "\n",
        "$$\\nabla^2(\\nabla^2 \\phi(x,y)) = \\frac{{\\partial^4 \\phi}}{{\\partial x^4}} + 2 \\frac{{\\partial^4 \\phi}}{{\\partial x^2 \\partial y^2}} + \\frac{{\\partial^4 \\phi}}{{\\partial y^4}}$$"
      ],
      "metadata": {
        "id": "SsuhvMW945Hy"
      }
    },
    {
      "cell_type": "code",
      "execution_count": null,
      "metadata": {
        "colab": {
          "base_uri": "https://localhost:8080/"
        },
        "id": "ZFGX6-u-4O_E",
        "outputId": "d4327508-dc27-4a38-f483-4fdc80fd8810"
      },
      "outputs": [
        {
          "output_type": "stream",
          "name": "stdout",
          "text": [
            "A*x**3 + B*x**2*y + C*x*y**2 + D*y**3\n",
            "0\n"
          ]
        }
      ],
      "source": [
        "from sympy import  diff,symbols, Eq, solve,N\n",
        "\n",
        "# Definir as variáveis simbólicas\n",
        "x, y = symbols('x y')\n",
        "\n",
        "# Definir os coeficientes simbólicos\n",
        "A, B, C, D = symbols('A B C D')\n",
        "\n",
        "# Definir a função phi\n",
        "phi = A*x**3 + B*x**2*y + C*x*y**2 + D*y**3\n",
        "\n",
        "# Exibir a função phi\n",
        "print(phi)\n",
        "\n",
        "# Verificando se phi é uma função biharmônica, i.e. se H = 0\n",
        "H = diff(diff(phi,x,2) + diff(phi,y,2),x,2) + diff(diff(phi,x,2) + diff(phi,y,2),y,2) \n",
        "\n",
        "print(H)"
      ]
    },
    {
      "cell_type": "markdown",
      "source": [
        "#2. Cálculo do campo de tensões\n",
        "\n",
        "\n"
      ],
      "metadata": {
        "id": "KEzyJzAk88yW"
      }
    },
    {
      "cell_type": "code",
      "source": [
        "# Calcular as tensões Sx, Sy e Sxy\n",
        "Sx = diff(phi, y, 2)\n",
        "Sy = diff(phi, x, 2)\n",
        "Sxy = -diff(diff(phi, x), y)\n",
        "\n",
        "# Exibir as tensões Sx, Sy, Sxy \n",
        "print('A tensão Sx é:')\n",
        "print(Sx)\n",
        "\n",
        "print('A tensão Sy é:')\n",
        "print(Sy)\n",
        "\n",
        "print('A tensão Sxy é:')\n",
        "print(Sxy)\n",
        "\n",
        "# Definir as variáveis simbólicas\n",
        "q0, x, L = symbols('q0 x L')\n",
        "\n",
        "# carregamento\n",
        "q = -q0*x/L\n",
        "print('Carregamento (N/m^2):')\n",
        "print(q)"
      ],
      "metadata": {
        "id": "ECEaJ7kW42DU",
        "colab": {
          "base_uri": "https://localhost:8080/"
        },
        "outputId": "879e0033-cffa-48ed-cb30-6924b1da3fa1"
      },
      "execution_count": null,
      "outputs": [
        {
          "output_type": "stream",
          "name": "stdout",
          "text": [
            "A tensão Sx é:\n",
            "2*(C*x + 3*D*y)\n",
            "A tensão Sy é:\n",
            "2*(3*A*x + B*y)\n",
            "A tensão Sxy é:\n",
            "-2*B*x - 2*C*y\n",
            "Carregamento (N/m^2):\n",
            "-q0*x/L\n"
          ]
        }
      ]
    },
    {
      "cell_type": "markdown",
      "source": [
        "#3. Aplicando as condições de contorno e calculando os coeficientes\n"
      ],
      "metadata": {
        "id": "esy229S9_hZs"
      }
    },
    {
      "cell_type": "code",
      "source": [
        "# Face AB: quando y = 0\n",
        "nAB = np.array([[0], [-1]])\n",
        "\n",
        "# calculo do tensor das tensões na face AB quando y = 0 e 0<x<L\n",
        "S_AB = np.array([[Sx.subs(y,0), Sxy.subs(y,0)], [Sxy.subs(y,0), Sy.subs(y,0)]])\n",
        "\n",
        "# vetor tensão na face AB:\n",
        "# Calcular o vetor de tensão tAB\n",
        "tAB = np.dot(S_AB, nAB)\n",
        "\n",
        "print('vetor tensão na face AB:')\n",
        "print(tAB)\n",
        "\n",
        "# Resolver as equações para encontrar os coeficientes\n",
        "coef_B = solve(tAB[0], B)\n",
        "coef_A = solve(tAB[1]-q, A)\n",
        "\n",
        "print(coef_B)\n",
        "print(coef_A)\n",
        "\n",
        "# Obter os valores das soluções como números decimais\n",
        "valor_A = N(coef_A[A])\n",
        "valor_B = N(coef_B[B])"
      ],
      "metadata": {
        "colab": {
          "base_uri": "https://localhost:8080/"
        },
        "id": "JEeyvcor_reI",
        "outputId": "08315cd1-87b7-4a29-b50f-bb7e9f10d13b"
      },
      "execution_count": null,
      "outputs": [
        {
          "output_type": "stream",
          "name": "stdout",
          "text": [
            "vetor tensão na face AB:\n",
            "[[2*B*x]\n",
            " [-6*A*x]]\n",
            "{B: 0}\n",
            "{A: q0/(6*L)}\n"
          ]
        }
      ]
    },
    {
      "cell_type": "code",
      "source": [
        "# Face AC: quando x = y\n",
        "nAC = np.array([[-1/np.sqrt(2)], [1/np.sqrt(2)]])\n",
        "\n",
        "# calculo do tensor das tensões na face AB quando x=y\n",
        "S1 = Sx.subs([(y,x),(A,valor_A),(B,valor_B)])\n",
        "S2= Sy.subs([(y,x),(A, valor_A), (B, valor_B)])\n",
        "S12= Sxy.subs([(y,x),(A, valor_A), (B, valor_B)])\n",
        "\n",
        "print(S2)\n",
        "print(S12)\n",
        "\n",
        "S_AC = np.array([[S1, S12], [S12, S2]])\n",
        "\n",
        "# vetor tensão na face AC:\n",
        "# Calcular o vetor de tensão tAC\n",
        "tAC = np.dot(S_AC, nAC)\n",
        "\n",
        "print('vetor tensão na face AC:')\n",
        "print(tAC)\n",
        "\n",
        "coef_C = solve(S2-S12,C)\n",
        "print(coef_C)\n",
        "valor_C = N(coef_C[0])\n",
        "\n",
        "coef_D = solve(S1.subs(C,valor_C)-S12.subs(C,valor_C),D)\n",
        "print(coef_D)\n",
        "valor_D = N(coef_D[0])\n"
      ],
      "metadata": {
        "colab": {
          "base_uri": "https://localhost:8080/"
        },
        "id": "5XJqFn6ZJ5SU",
        "outputId": "7a03cec5-20c0-4376-b8b6-a4f1e520dbd3"
      },
      "execution_count": null,
      "outputs": [
        {
          "output_type": "stream",
          "name": "stdout",
          "text": [
            "1.0*q0*x/L\n",
            "-2*C*x\n",
            "vetor tensão na face AC:\n",
            "[[-2.82842712474619*C*x - 4.24264068711928*D*x]\n",
            " [1.41421356237309*C*x + 0.707106781186547*q0*x/L]]\n",
            "[-0.5*q0/L]\n",
            "[0.333333333333333*q0/L]\n"
          ]
        }
      ]
    },
    {
      "cell_type": "code",
      "source": [
        "# Face CB quando x = L\n",
        "\n",
        "nCB = np.array([[1],[0]])\n",
        "\n",
        "# calculo do tensor das tensões na face AB quando x=y\n",
        "S1 = Sx.subs([(x,L),(A,valor_A),(B,valor_B),(C, valor_C),(D,valor_D)])\n",
        "S2= Sy.subs([(x,L),(A, valor_A), (B, valor_B),(C, valor_C),(D,valor_D)])\n",
        "S12= Sxy.subs([(x,L),(A, valor_A), (B, valor_B),(C, valor_C),(D,valor_D)])\n",
        "\n",
        "S_CB = np.array([[S1, S12], [S12, S2]])\n",
        "\n",
        "# vetor tensão na face B:\n",
        "# Calcular o vetor de tensão tCB\n",
        "tCB = np.dot(S_CB, nCB)\n",
        "\n",
        "print('vetor tensão na face CB - reações na face engastada:')\n",
        "print(tCB)\n"
      ],
      "metadata": {
        "colab": {
          "base_uri": "https://localhost:8080/"
        },
        "id": "BwAWTpSSSU6Z",
        "outputId": "d0336d39-3de5-4fa3-827e-41342d077d20"
      },
      "execution_count": null,
      "outputs": [
        {
          "output_type": "stream",
          "name": "stdout",
          "text": [
            "vetor tensão na face CB - reações na face engastada:\n",
            "[[-1.0*q0 + 2.0*q0*y/L]\n",
            " [1.0*q0*y/L]]\n"
          ]
        }
      ]
    },
    {
      "cell_type": "markdown",
      "source": [
        "# 4. Visualização do campo de tensões"
      ],
      "metadata": {
        "id": "9GKmJehyU6Fd"
      }
    },
    {
      "cell_type": "code",
      "source": [
        "# Campo de tensões \n",
        "Sx = Sx.subs([(A,valor_A),(B,valor_B),(C, valor_C),(D,valor_D)])\n",
        "Sy= Sy.subs([(A, valor_A), (B, valor_B),(C, valor_C),(D,valor_D)])\n",
        "Sxy= Sxy.subs([(A, valor_A), (B, valor_B),(C, valor_C),(D,valor_D)])\n",
        "\n",
        "# Exibir as tensões Sx, Sy, Sxy \n",
        "print('A tensão Sx é:')\n",
        "print(Sx)\n",
        "\n",
        "print('A tensão Sy é:')\n",
        "print(Sy)\n",
        "\n",
        "print('A tensão Sxy é:')\n",
        "print(Sxy)"
      ],
      "metadata": {
        "colab": {
          "base_uri": "https://localhost:8080/"
        },
        "id": "4HgADADqU405",
        "outputId": "e2023dae-d731-4dfb-b7f2-e1e0e784838a"
      },
      "execution_count": null,
      "outputs": [
        {
          "output_type": "stream",
          "name": "stdout",
          "text": [
            "A tensão Sx é:\n",
            "-1.0*q0*x/L + 2.0*q0*y/L\n",
            "A tensão Sy é:\n",
            "q0*x/L\n",
            "A tensão Sxy é:\n",
            "1.0*q0*y/L\n"
          ]
        }
      ]
    },
    {
      "cell_type": "code",
      "source": [
        "# Cálculo da Tensão de von Mises\n",
        "L = 1\n",
        "q0 = 10\n",
        "N = 200\n",
        "x = np.linspace(0, L, N)\n",
        "y = np.linspace(0, L, N)\n",
        "\n",
        "xx, yy = np.meshgrid(x, y)\n",
        "\n",
        "S_vm = np.zeros((N, N))  # Inicializar a matriz S_vm\n",
        "\n",
        "for i in range(N):\n",
        "    for j in range(N):\n",
        "        if xx[i, j] <= yy[i, j]:\n",
        "            S_vm[i, j] = np.nan\n",
        "        else:\n",
        "            # Estado de tensões\n",
        "            Sx = -q0 / L * xx[i, j] + 2 * q0 * yy[i, j] / L\n",
        "            Sy = q0 * xx[i, j] / L\n",
        "            Sxy = q0 * yy[i, j] / L\n",
        "\n",
        "            # Tensor das tensões\n",
        "            S = np.array([[Sx, Sxy], [Sxy, Sy]])\n",
        "\n",
        "            # Tensões Principais\n",
        "            autovalores = np.linalg.eigvals(S)\n",
        "            S1 = np.max(autovalores)\n",
        "            S2 = np.min(autovalores)\n",
        "\n",
        "            # Tensão de Von Mises\n",
        "            S_vm[i, j] = np.sqrt(S1 ** 2 - S1 * S2 + S2 ** 2)\n"
      ],
      "metadata": {
        "id": "u2krkRZeXqnv"
      },
      "execution_count": null,
      "outputs": []
    },
    {
      "cell_type": "code",
      "source": [
        "# Plot do campo de tensão de von Mises\n",
        "\n",
        "plt.figure(figsize=(8, 8))\n",
        "plt.contourf(xx, yy, S_vm, level = 30, cmap='coolwarm')\n",
        "plt.colorbar()\n",
        "plt.xlabel('x')\n",
        "plt.ylabel('y')\n",
        "plt.title('Campo de Tensão de von Mises')\n",
        "plt.tight_layout()\n",
        "\n",
        "# Salvar a figura em EPS\n",
        "filename = 'tensoes.eps'\n",
        "filepath = os.path.join(os.getcwd(), filename)\n",
        "plt.savefig(filepath, format='eps')\n",
        "\n",
        "plt.show()"
      ],
      "metadata": {
        "colab": {
          "base_uri": "https://localhost:8080/",
          "height": 820
        },
        "id": "aebSUl9reett",
        "outputId": "1412a3cb-c4d4-46c1-f177-9962acb0784e"
      },
      "execution_count": null,
      "outputs": [
        {
          "output_type": "stream",
          "name": "stderr",
          "text": [
            "<ipython-input-34-c132727f788b>:4: UserWarning: The following kwargs were not used by contour: 'level'\n",
            "  plt.contourf(xx, yy, S_vm, level = 30, cmap='coolwarm')\n"
          ]
        },
        {
          "output_type": "display_data",
          "data": {
            "text/plain": [
              "<Figure size 800x800 with 2 Axes>"
            ],
            "image/png": "[encoded data removed]"
          },
          "metadata": {}
        }
      ]
    }
  ]
}