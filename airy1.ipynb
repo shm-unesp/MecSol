{
  "nbformat": 4,
  "nbformat_minor": 0,
  "metadata": {
    "colab": {
      "provenance": [],
      "authorship_tag": "ABX9TyMpA4Sf+6eCtlYOY1qmwnyR",
      "include_colab_link": true
    },
    "kernelspec": {
      "name": "python3",
      "display_name": "Python 3"
    },
    "language_info": {
      "name": "python"
    }
  },
  "cells": [
    {
      "cell_type": "markdown",
      "metadata": {
        "id": "view-in-github",
        "colab_type": "text"
      },
      "source": [
        "<a href=\"https://colab.research.google.com/github/shm-unesp/MecSol/blob/Python/airy1.ipynb\" target=\"_parent\"><img src=\"https://colab.research.google.com/assets/colab-badge.svg\" alt=\"Open In Colab\"/></a>"
      ]
    },
    {
      "cell_type": "markdown",
      "source": [
        " # **Funções de Airy**\n",
        " ----\n",
        "\n",
        "Considere uma placa triangular com um carregamento crescendo linearmente conforme a figura abaixo, sendo a tensão $q_0$ (N/m$^2$) em $x=\\ell$. \n",
        "\n",
        "Para a solução do campo de tensões na placa se propõe usar uma função de Airy candidata como:\n",
        "\n",
        "$$\\phi(x,y) =\\mathcal Ax^3 + Bx^2y + Cxy^2 + Dy^3 $$\n"
      ],
      "metadata": {
        "id": "Wt4l4KlM4P5r"
      }
    },
    {
      "cell_type": "code",
      "source": [
        "from IPython.display import Image, display\n",
        "display(Image(filename='chapa.jpeg'))"
      ],
      "metadata": {
        "colab": {
          "base_uri": "https://localhost:8080/",
          "height": 300
        },
        "id": "TBDhcjNwxhTU",
        "outputId": "289f4d4e-031f-48ca-96e9-51e37c994f3f"
      },
      "execution_count": 40,
      "outputs": [
        {
          "output_type": "display_data",
          "data": {
            "image/jpeg": "[encoded data removed]",
            "text/plain": [
              "<IPython.core.display.Image object>"
            ]
          },
          "metadata": {}
        }
      ]
    },
    {
      "cell_type": "code",
      "source": [
        "!sudo dpkg --configure -a\n",
        "!sudo apt-get update --fix-missing\n",
        "!sudo apt-get install texlive-latex-extra texlive-fonts-recommended dvipng cm-super # plot with latex fonts\n",
        "!pip install colorblind\n",
        "\n",
        "import numpy as np\n",
        "import math as mt\n",
        "import pandas as pd\n",
        "import seaborn as sns\n",
        "import os\n",
        "\n",
        "import matplotlib.pyplot as plt\n",
        "\n",
        "import matplotlib.font_manager as font_manager\n",
        "from matplotlib import rc\n",
        "\n",
        "#Set the font dictionaries (for plot title and axis titles)\n",
        "rc('font', **{'family': 'serif', 'serif': ['Computer Modern'],'size': '18'})\n",
        "rc('text', usetex=True)"
      ],
      "metadata": {
        "id": "x9kfnko_5Dd2",
        "colab": {
          "base_uri": "https://localhost:8080/"
        },
        "outputId": "f0467d1a-5102-4778-dd4b-8dc9463aefd7"
      },
      "execution_count": 19,
      "outputs": [
        {
          "output_type": "stream",
          "name": "stdout",
          "text": [
            "\r0% [Working]\r            \rHit:1 https://cloud.r-project.org/bin/linux/ubuntu focal-cran40/ InRelease\n",
            "Hit:2 https://developer.download.nvidia.com/compute/cuda/repos/ubuntu2004/x86_64  InRelease\n",
            "Get:3 http://security.ubuntu.com/ubuntu focal-security InRelease [114 kB]\n",
            "Get:4 http://ppa.launchpad.net/c2d4u.team/c2d4u4.0+/ubuntu focal InRelease [18.1 kB]\n",
            "Hit:5 http://archive.ubuntu.com/ubuntu focal InRelease\n",
            "Get:6 http://archive.ubuntu.com/ubuntu focal-updates InRelease [114 kB]\n",
            "Hit:7 http://ppa.launchpad.net/cran/libgit2/ubuntu focal InRelease\n",
            "Hit:8 http://ppa.launchpad.net/deadsnakes/ppa/ubuntu focal InRelease\n",
            "Get:9 http://archive.ubuntu.com/ubuntu focal-backports InRelease [108 kB]\n",
            "Hit:10 http://ppa.launchpad.net/graphics-drivers/ppa/ubuntu focal InRelease\n",
            "Hit:11 http://ppa.launchpad.net/ubuntugis/ppa/ubuntu focal InRelease\n",
            "Get:12 http://ppa.launchpad.net/c2d4u.team/c2d4u4.0+/ubuntu focal/main Sources [2,586 kB]\n",
            "Get:13 http://archive.ubuntu.com/ubuntu focal-updates/main amd64 Packages [3,252 kB]\n",
            "Get:14 http://archive.ubuntu.com/ubuntu focal-updates/universe amd64 Packages [1,351 kB]\n",
            "Get:15 http://ppa.launchpad.net/c2d4u.team/c2d4u4.0+/ubuntu focal/main amd64 Packages [1,220 kB]\n",
            "Fetched 8,762 kB in 7s (1,320 kB/s)\n",
            "Reading package lists... Done\n",
            "Reading package lists... Done\n",
            "Building dependency tree       \n",
            "Reading state information... Done\n",
            "cm-super is already the newest version (0.3.4-15).\n",
            "dvipng is already the newest version (1.15-1.1).\n",
            "texlive-fonts-recommended is already the newest version (2019.20200218-1).\n",
            "texlive-latex-extra is already the newest version (2019.202000218-1).\n",
            "0 upgraded, 0 newly installed, 0 to remove and 36 not upgraded.\n",
            "Looking in indexes: https://pypi.org/simple, https://us-python.pkg.dev/colab-wheels/public/simple/\n",
            "Requirement already satisfied: colorblind in /usr/local/lib/python3.10/dist-packages (0.0.9)\n"
          ]
        }
      ]
    },
    {
      "cell_type": "markdown",
      "source": [
        "# 1. Verificando se a função $\\phi(x,y)$ é uma função de Airy\n",
        "\n",
        "$$\\nabla^2(\\nabla^2 \\phi(x,y)) = \\frac{{\\partial^4 \\phi}}{{\\partial x^4}} + 2 \\frac{{\\partial^4 \\phi}}{{\\partial x^2 \\partial y^2}} + \\frac{{\\partial^4 \\phi}}{{\\partial y^4}}$$"
      ],
      "metadata": {
        "id": "SsuhvMW945Hy"
      }
    },
    {
      "cell_type": "code",
      "execution_count": 42,
      "metadata": {
        "colab": {
          "base_uri": "https://localhost:8080/"
        },
        "id": "ZFGX6-u-4O_E",
        "outputId": "c58fe084-375f-4cf4-e8e8-10f5df3c6783"
      },
      "outputs": [
        {
          "output_type": "stream",
          "name": "stdout",
          "text": [
            "A*x**3 + B*x**2*y + C*x*y**2 + D*y**3\n",
            "0\n"
          ]
        }
      ],
      "source": [
        "from sympy import  diff,symbols, Eq, solve,N\n",
        "\n",
        "# Definir as variáveis simbólicas\n",
        "x, y = symbols('x y')\n",
        "\n",
        "# Definir os coeficientes simbólicos\n",
        "A, B, C, D = symbols('A B C D')\n",
        "\n",
        "# Definir a função phi\n",
        "phi = A*x**3 + B*x**2*y + C*x*y**2 + D*y**3\n",
        "\n",
        "# Exibir a função phi\n",
        "print(phi)\n",
        "\n",
        "# Verificando se phi é uma função biharmônica, i.e. se H = 0\n",
        "H = diff(diff(phi,x,2) + diff(phi,y,2),x,2) + diff(diff(phi,x,2) + diff(phi,y,2),y,2) \n",
        "\n",
        "print(H)"
      ]
    },
    {
      "cell_type": "markdown",
      "source": [
        "#2. Cálculo do campo de tensões\n",
        "\n",
        "\n"
      ],
      "metadata": {
        "id": "KEzyJzAk88yW"
      }
    },
    {
      "cell_type": "code",
      "source": [
        "# Calcular as tensões Sx, Sy e Sxy\n",
        "Sx = diff(phi, y, 2)\n",
        "Sy = diff(phi, x, 2)\n",
        "Sxy = -diff(diff(phi, x), y)\n",
        "\n",
        "# Exibir as tensões Sx, Sy, Sxy \n",
        "print('A tensão Sx é:')\n",
        "print(Sx)\n",
        "\n",
        "print('A tensão Sy é:')\n",
        "print(Sy)\n",
        "\n",
        "print('A tensão Sxy é:')\n",
        "print(Sxy)\n",
        "\n",
        "# Definir as variáveis simbólicas\n",
        "q0, x, L = symbols('q0 x L')\n",
        "\n",
        "# carregamento\n",
        "q = -q0*x/L\n",
        "print('Carregamento (N/m^2):')\n",
        "print(q)"
      ],
      "metadata": {
        "id": "ECEaJ7kW42DU",
        "colab": {
          "base_uri": "https://localhost:8080/"
        },
        "outputId": "42a4e9e7-df58-4c6b-faa1-a377705254eb"
      },
      "execution_count": 43,
      "outputs": [
        {
          "output_type": "stream",
          "name": "stdout",
          "text": [
            "A tensão Sx é:\n",
            "2*(C*x + 3*D*y)\n",
            "A tensão Sy é:\n",
            "2*(3*A*x + B*y)\n",
            "A tensão Sxy é:\n",
            "-2*B*x - 2*C*y\n",
            "Carregamento (N/m^2):\n",
            "-q0*x/L\n"
          ]
        }
      ]
    },
    {
      "cell_type": "markdown",
      "source": [
        "#3. Aplicando as condições de contorno e calculando os coeficientes\n"
      ],
      "metadata": {
        "id": "esy229S9_hZs"
      }
    },
    {
      "cell_type": "code",
      "source": [
        "# Face AB: quando y = 0\n",
        "nAB = np.array([[0], [-1]])\n",
        "\n",
        "# calculo do tensor das tensões na face AB quando y = 0 e 0<x<L\n",
        "S_AB = np.array([[Sx.subs(y,0), Sxy.subs(y,0)], [Sxy.subs(y,0), Sy.subs(y,0)]])\n",
        "\n",
        "# vetor tensão na face AB:\n",
        "# Calcular o vetor de tensão tAB\n",
        "tAB = np.dot(S_AB, nAB)\n",
        "\n",
        "print('vetor tensão na face AB:')\n",
        "print(tAB)\n",
        "\n",
        "# Resolver as equações para encontrar os coeficientes\n",
        "coef_B = solve(tAB[0], B)\n",
        "coef_A = solve(tAB[1]-q, A)\n",
        "\n",
        "print(coef_B)\n",
        "print(coef_A)\n",
        "\n",
        "# Obter os valores das soluções como números decimais\n",
        "valor_A = N(coef_A[A])\n",
        "valor_B = N(coef_B[B])"
      ],
      "metadata": {
        "colab": {
          "base_uri": "https://localhost:8080/"
        },
        "id": "JEeyvcor_reI",
        "outputId": "963ee74d-fa53-4e5b-e596-95c7dfbd6d67"
      },
      "execution_count": 44,
      "outputs": [
        {
          "output_type": "stream",
          "name": "stdout",
          "text": [
            "vetor tensão na face AB:\n",
            "[[2*B*x]\n",
            " [-6*A*x]]\n",
            "{B: 0}\n",
            "{A: q0/(6*L)}\n"
          ]
        }
      ]
    },
    {
      "cell_type": "code",
      "source": [
        "# Face AC: quando x = y\n",
        "nAC = np.array([[-1/np.sqrt(2)], [1/np.sqrt(2)]])\n",
        "\n",
        "# calculo do tensor das tensões na face AB quando x=y\n",
        "S1 = Sx.subs([(y,x),(A,valor_A),(B,valor_B)])\n",
        "S2= Sy.subs([(y,x),(A, valor_A), (B, valor_B)])\n",
        "S12= Sxy.subs([(y,x),(A, valor_A), (B, valor_B)])\n",
        "\n",
        "print(S2)\n",
        "print(S12)\n",
        "\n",
        "S_AC = np.array([[S1, S12], [S12, S2]])\n",
        "\n",
        "# vetor tensão na face AC:\n",
        "# Calcular o vetor de tensão tAC\n",
        "tAC = np.dot(S_AC, nAC)\n",
        "\n",
        "print('vetor tensão na face AC:')\n",
        "print(tAC)\n",
        "\n",
        "coef_C = solve(S2-S12,C)\n",
        "print(coef_C)\n",
        "valor_C = N(coef_C[0])\n",
        "\n",
        "coef_D = solve(S1.subs(C,valor_C)-S12.subs(C,valor_C),D)\n",
        "print(coef_D)\n",
        "valor_D = N(coef_D[0])\n"
      ],
      "metadata": {
        "colab": {
          "base_uri": "https://localhost:8080/"
        },
        "id": "5XJqFn6ZJ5SU",
        "outputId": "99daa292-5d9c-4ca4-d2d3-64a7fa927475"
      },
      "execution_count": 45,
      "outputs": [
        {
          "output_type": "stream",
          "name": "stdout",
          "text": [
            "1.0*q0*x/L\n",
            "-2*C*x\n",
            "vetor tensão na face AC:\n",
            "[[-2.82842712474619*C*x - 4.24264068711928*D*x]\n",
            " [1.41421356237309*C*x + 0.707106781186547*q0*x/L]]\n",
            "[-0.5*q0/L]\n",
            "[0.333333333333333*q0/L]\n"
          ]
        }
      ]
    },
    {
      "cell_type": "code",
      "source": [
        "# Face CB quando x = L\n",
        "\n",
        "nCB = np.array([[1],[0]])\n",
        "\n",
        "# calculo do tensor das tensões na face AB quando x=y\n",
        "S1 = Sx.subs([(x,L),(A,valor_A),(B,valor_B),(C, valor_C),(D,valor_D)])\n",
        "S2= Sy.subs([(x,L),(A, valor_A), (B, valor_B),(C, valor_C),(D,valor_D)])\n",
        "S12= Sxy.subs([(x,L),(A, valor_A), (B, valor_B),(C, valor_C),(D,valor_D)])\n",
        "\n",
        "S_CB = np.array([[S1, S12], [S12, S2]])\n",
        "\n",
        "# vetor tensão na face B:\n",
        "# Calcular o vetor de tensão tCB\n",
        "tCB = np.dot(S_CB, nCB)\n",
        "\n",
        "print('vetor tensão na face CB - reações na face engastada:')\n",
        "print(tCB)\n"
      ],
      "metadata": {
        "colab": {
          "base_uri": "https://localhost:8080/"
        },
        "id": "BwAWTpSSSU6Z",
        "outputId": "f5c85159-694d-4c4c-a8cb-a26325b01fe2"
      },
      "execution_count": 46,
      "outputs": [
        {
          "output_type": "stream",
          "name": "stdout",
          "text": [
            "vetor tensão na face CB - reações na face engastada:\n",
            "[[-1.0*q0 + 2.0*q0*y/L]\n",
            " [1.0*q0*y/L]]\n"
          ]
        }
      ]
    },
    {
      "cell_type": "markdown",
      "source": [
        "# 4. Visualização do campo de tensões"
      ],
      "metadata": {
        "id": "9GKmJehyU6Fd"
      }
    },
    {
      "cell_type": "code",
      "source": [
        "# Campo de tensões \n",
        "Sx = Sx.subs([(A,valor_A),(B,valor_B),(C, valor_C),(D,valor_D)])\n",
        "Sy= Sy.subs([(A, valor_A), (B, valor_B),(C, valor_C),(D,valor_D)])\n",
        "Sxy= Sxy.subs([(A, valor_A), (B, valor_B),(C, valor_C),(D,valor_D)])\n",
        "\n",
        "# Exibir as tensões Sx, Sy, Sxy \n",
        "print('A tensão Sx é:')\n",
        "print(Sx)\n",
        "\n",
        "print('A tensão Sy é:')\n",
        "print(Sy)\n",
        "\n",
        "print('A tensão Sxy é:')\n",
        "print(Sxy)"
      ],
      "metadata": {
        "colab": {
          "base_uri": "https://localhost:8080/"
        },
        "id": "4HgADADqU405",
        "outputId": "110181d7-b66c-49bf-808a-fda79bc89684"
      },
      "execution_count": 47,
      "outputs": [
        {
          "output_type": "stream",
          "name": "stdout",
          "text": [
            "A tensão Sx é:\n",
            "-1.0*q0*x/L + 2.0*q0*y/L\n",
            "A tensão Sy é:\n",
            "q0*x/L\n",
            "A tensão Sxy é:\n",
            "1.0*q0*y/L\n"
          ]
        }
      ]
    },
    {
      "cell_type": "code",
      "source": [
        "# Cálculo da Tensão de von Mises\n",
        "L = 1\n",
        "q0 = 10\n",
        "N = 200\n",
        "x = np.linspace(0, L, N)\n",
        "y = np.linspace(0, L, N)\n",
        "\n",
        "xx, yy = np.meshgrid(x, y)\n",
        "\n",
        "S_vm = np.zeros((N, N))  # Inicializar a matriz S_vm\n",
        "\n",
        "for i in range(N):\n",
        "    for j in range(N):\n",
        "        if xx[i, j] <= yy[i, j]:\n",
        "            S_vm[i, j] = np.nan\n",
        "        else:\n",
        "            # Estado de tensões\n",
        "            Sx = -q0 / L * xx[i, j] + 2 * q0 * yy[i, j] / L\n",
        "            Sy = q0 * xx[i, j] / L\n",
        "            Sxy = q0 * yy[i, j] / L\n",
        "\n",
        "            # Tensor das tensões\n",
        "            S = np.array([[Sx, Sxy], [Sxy, Sy]])\n",
        "\n",
        "            # Tensões Principais\n",
        "            autovalores = np.linalg.eigvals(S)\n",
        "            S1 = np.max(autovalores)\n",
        "            S2 = np.min(autovalores)\n",
        "\n",
        "            # Tensão de Von Mises\n",
        "            S_vm[i, j] = np.sqrt(S1 ** 2 - S1 * S2 + S2 ** 2)\n"
      ],
      "metadata": {
        "id": "u2krkRZeXqnv"
      },
      "execution_count": 48,
      "outputs": []
    },
    {
      "cell_type": "code",
      "source": [
        "from google.colab import drive\n",
        "drive.mount('/content/drive')\n",
        "\n",
        "# Plot do campo de tensão de von Mises\n",
        "\n",
        "plt.figure(figsize=(8, 8))\n",
        "plt.contourf(xx, yy, S_vm, levels = 30, cmap='coolwarm')\n",
        "plt.colorbar()\n",
        "plt.xlabel('x')\n",
        "plt.ylabel('y')\n",
        "plt.title('Campo de Tensão de von Mises')\n",
        "plt.tight_layout()\n",
        "\n",
        "# Caminho do diretório no Google Drive\n",
        "diretorio = '/content/drive/MyDrive/Colab Notebooks/MecSol'\n",
        "\n",
        "# Verificar o diretório atual\n",
        "print(os.getcwd())\n",
        "\n",
        "# Alterar para o diretório desejado\n",
        "os.chdir(diretorio)\n",
        "\n",
        "# Verificar o diretório atual novamente\n",
        "print(os.getcwd())\n",
        "\n",
        "# Salvar a figura no diretório desejado\n",
        "filename = 'tensoes.eps'\n",
        "filepath = os.path.join(diretorio, filename)\n",
        "plt.savefig(filepath, format='eps')\n",
        "plt.show()"
      ],
      "metadata": {
        "colab": {
          "base_uri": "https://localhost:8080/",
          "height": 839
        },
        "id": "aebSUl9reett",
        "outputId": "e18b6e6b-3a8d-4140-8596-865232defdbc"
      },
      "execution_count": 54,
      "outputs": [
        {
          "output_type": "stream",
          "name": "stdout",
          "text": [
            "Mounted at /content/drive\n",
            "/content\n",
            "/content/drive/MyDrive/Colab Notebooks/MecSol\n"
          ]
        },
        {
          "output_type": "display_data",
          "data": {
            "text/plain": [
              "<Figure size 800x800 with 2 Axes>"
            ],
            "image/png": "[encoded data removed]"
          },
          "metadata": {}
        }
      ]
    }
  ]
}